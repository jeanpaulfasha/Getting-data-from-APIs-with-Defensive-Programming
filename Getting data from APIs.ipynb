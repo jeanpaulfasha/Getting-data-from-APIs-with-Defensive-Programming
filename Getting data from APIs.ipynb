{
 "cells": [
  {
   "cell_type": "markdown",
   "id": "8bb53754-8945-4314-afc4-fdf761af9f42",
   "metadata": {},
   "source": [
    "## Getting data from APIs\n",
    "### Introduction\n",
    "##### In today's interconnected world, APIs (Application Programming Interfaces) have become the gateway to vast amounts of data, enabling seamless communication between systems. This project embarks on an exciting journey into the realm of APIs, where we'll learn how to extract data directly from a web server with precision and ease. But that’s not all—data in its raw form can be overwhelming, so we’ll dive into transforming it into a clean, structured, and manageable format."
   ]
  },
  {
   "cell_type": "code",
   "execution_count": 1,
   "id": "5ad87dc8-64a6-447c-92ac-89223ea2cde5",
   "metadata": {},
   "outputs": [],
   "source": [
    "#Install the pydantic-settings Package\n",
    "#!pip install pydantic-settings"
   ]
  },
  {
   "cell_type": "code",
   "execution_count": 2,
   "id": "197858c3-5b97-4b52-9c69-0905ba5074d4",
   "metadata": {},
   "outputs": [],
   "source": [
    "# Import required libraries\n",
    "import pandas as pd\n",
    "import requests"
   ]
  },
  {
   "cell_type": "markdown",
   "id": "85ca71aa-23d3-4f28-a29c-4443f4e92c69",
   "metadata": {},
   "source": [
    "### Accessing APIs Through a URL\n",
    "##### APIs like <b><a href=\"https://www.alphavantage.co/query?function=TIME_SERIES_DAILY&symbol=IBM&apikey=demo\">AlphaVantage</a></b> make it simple to access real-time and historical stock market data. By interacting with a URL like the one above, you can request specific information—in this case, daily time series data for IBM stock. The query parameters in the URL specify the function (<b>TIME_SERIES_DAILY</b>), the stock symbol (<b>IBM</b>), and the API key (<b>demo</b>). The server processes this request and returns the data in a structured format, typically JSON, which can then be parsed and transformed for analysis. This hands-on approach not only demystifies APIs but also lays the foundation for leveraging financial data effectively."
   ]
  },
  {
   "cell_type": "code",
   "execution_count": 3,
   "id": "79b48123-24d8-432c-9f01-3b97f3ba36df",
   "metadata": {},
   "outputs": [
    {
     "name": "stdout",
     "output_type": "stream",
     "text": [
      "url type: <class 'str'>\n"
     ]
    },
    {
     "data": {
      "text/plain": [
       "'https://www.alphavantage.co/query?function=TIME_SERIES_DAILY&symbol=IBM&apikey=demo'"
      ]
     },
     "execution_count": 3,
     "metadata": {},
     "output_type": "execute_result"
    }
   ],
   "source": [
    "url = (\n",
    "    \"https://www.alphavantage.co/query?\"\n",
    "    \"function=TIME_SERIES_DAILY&\"\n",
    "    \"symbol=IBM&\"\n",
    "    \"apikey=demo\"\n",
    ")\n",
    "\n",
    "print(\"url type:\", type(url))\n",
    "url"
   ]
  },
  {
   "cell_type": "markdown",
   "id": "ab68b645-be08-478a-b17b-ad8d87f05669",
   "metadata": {},
   "source": [
    "### Import Config Module\n",
    "##### Import the settings variable from the config module to centralize and simplify access to key configuration values, ensuring consistency across the application."
   ]
  },
  {
   "cell_type": "code",
   "execution_count": 9,
   "id": "a5fe5102-2902-4482-8586-ade509f70661",
   "metadata": {},
   "outputs": [
    {
     "data": {
      "text/plain": [
       "'stocks.sqlite'"
      ]
     },
     "execution_count": 9,
     "metadata": {},
     "output_type": "execute_result"
    }
   ],
   "source": [
    "from config import settings\n",
    "\n",
    "# Use `dir` to list attributes\n",
    "dir(settings)\n",
    "settings.model_directory\n",
    "settings.db_name"
   ]
  },
  {
   "cell_type": "markdown",
   "id": "fb4160e3-e0ac-42b7-ad74-938830ac36d4",
   "metadata": {},
   "source": [
    "### URL With Parameters\n",
    "##### Refer to the AlphaVantage Time Series Daily API documentation and update your URL to include all listed parameters. Make the URL dynamic by defining variables for parameters like <b>ticker<b>, <b>output_size<b>, and <b>data_type<b>."
   ]
  },
  {
   "cell_type": "code",
   "execution_count": 5,
   "id": "bb25fd67-11ed-461d-9d6c-c8fb44947f69",
   "metadata": {},
   "outputs": [
    {
     "name": "stdout",
     "output_type": "stream",
     "text": [
      "url type: <class 'str'>\n"
     ]
    },
    {
     "data": {
      "text/plain": [
       "'https://www.alphavantage.co/query?function=TIME_SERIES_DAILY&symbol=AMBUJACEM.BSE&outputsize=compact&datatype=json&apikey=2019c19ecd71029ffd831e6e7a19a782aa15bbf53f92852b6d7570ac579cf20ec42df48349653230d938827cbcabc0ba12a6fb313d58840132a3a117bf4484325d4d87253f370c3c263a2be5c4d4fd3baedd9625289a9655d0f6480e73c633ec6593e423233db134ac3a2d26b3af3512e56ff4f2dabd692350349fd0ad392005'"
      ]
     },
     "execution_count": 5,
     "metadata": {},
     "output_type": "execute_result"
    }
   ],
   "source": [
    "ticker = \"AMBUJACEM.BSE\"\n",
    "output_size = \"compact\"\n",
    "data_type = \"json\"\n",
    "\n",
    "url = (\n",
    "    \"https://www.alphavantage.co/query?\"\n",
    "    \"function=TIME_SERIES_DAILY&\"\n",
    "    f\"symbol={ticker}&\"\n",
    "    f\"outputsize={output_size}&\"\n",
    "    f\"datatype={data_type}&\"\n",
    "    f\"apikey={settings.alpha_api_key}\"\n",
    ")\n",
    "\n",
    "print(\"url type:\", type(url))\n",
    "url"
   ]
  },
  {
   "cell_type": "markdown",
   "id": "28f61d7f-bac7-4db9-a197-627e572b2bdd",
   "metadata": {},
   "source": [
    "## Accessing APIs Through a Request\n",
    "#### We've seen how to access the AlphaVantage API by clicking on a URL, but this won't work for the application we're building in this project because only humans click URLs. Computer programs access APIs by making <b>requests<b>."
   ]
  },
  {
   "cell_type": "markdown",
   "id": "cb959795-daa0-4c3e-815d-8f00b5d8cdfe",
   "metadata": {},
   "source": [
    "### HTTP Request\n",
    "##### Use the requests library to make a <b>get</b> request to the URL you created in the previous task. Assign the response to the variable <b>response</b>."
   ]
  },
  {
   "cell_type": "code",
   "execution_count": 6,
   "id": "656be339-28f6-47ce-a11b-13de350b5c93",
   "metadata": {},
   "outputs": [
    {
     "name": "stdout",
     "output_type": "stream",
     "text": [
      "response type: <class 'requests.models.Response'>\n"
     ]
    }
   ],
   "source": [
    "response = requests.get(url=url)\n",
    "\n",
    "print(\"response type:\", type(response))"
   ]
  },
  {
   "cell_type": "markdown",
   "id": "1f4f7ee7-cc23-473e-a8da-5f268194c28d",
   "metadata": {},
   "source": [
    "##### That tells us what kind of response we've gotten, but it doesn't tell us anything about what it means. If we want to find out what kinds of data are actually in the response, we'll need to use the <b>dir</b> command."
   ]
  },
  {
   "cell_type": "code",
   "execution_count": 15,
   "id": "a2af288f-4f6c-4029-b29f-bb00c509cfb3",
   "metadata": {},
   "outputs": [
    {
     "data": {
      "text/plain": [
       "['__attrs__',\n",
       " '__bool__',\n",
       " '__class__',\n",
       " '__delattr__',\n",
       " '__dict__',\n",
       " '__dir__',\n",
       " '__doc__',\n",
       " '__enter__',\n",
       " '__eq__',\n",
       " '__exit__',\n",
       " '__format__',\n",
       " '__ge__',\n",
       " '__getattribute__',\n",
       " '__getstate__',\n",
       " '__gt__',\n",
       " '__hash__',\n",
       " '__init__',\n",
       " '__init_subclass__',\n",
       " '__iter__',\n",
       " '__le__',\n",
       " '__lt__',\n",
       " '__module__',\n",
       " '__ne__',\n",
       " '__new__',\n",
       " '__nonzero__',\n",
       " '__reduce__',\n",
       " '__reduce_ex__',\n",
       " '__repr__',\n",
       " '__setattr__',\n",
       " '__setstate__',\n",
       " '__sizeof__',\n",
       " '__str__',\n",
       " '__subclasshook__',\n",
       " '__weakref__',\n",
       " '_content',\n",
       " '_content_consumed',\n",
       " '_next',\n",
       " 'apparent_encoding',\n",
       " 'close',\n",
       " 'connection',\n",
       " 'content',\n",
       " 'cookies',\n",
       " 'elapsed',\n",
       " 'encoding',\n",
       " 'headers',\n",
       " 'history',\n",
       " 'is_permanent_redirect',\n",
       " 'is_redirect',\n",
       " 'iter_content',\n",
       " 'iter_lines',\n",
       " 'json',\n",
       " 'links',\n",
       " 'next',\n",
       " 'ok',\n",
       " 'raise_for_status',\n",
       " 'raw',\n",
       " 'reason',\n",
       " 'request',\n",
       " 'status_code',\n",
       " 'text',\n",
       " 'url']"
      ]
     },
     "execution_count": 15,
     "metadata": {},
     "output_type": "execute_result"
    }
   ],
   "source": [
    "dir(response)"
   ]
  },
  {
   "cell_type": "markdown",
   "id": "75c39978-2457-4b27-8f63-57a4e1dbf810",
   "metadata": {},
   "source": [
    "##### <b>dir</b> returns a list, and, as you can see, there are lots of possibilities here! For now, let's focus on two attributes: <b>status_code</b> and <b>text</b."
   ]
  },
  {
   "cell_type": "markdown",
   "id": "dff8963e-7bca-40f5-bcf3-e42599b6abf4",
   "metadata": {},
   "source": [
    "##### We'll start with <b>status_code</b>. Every time you make a call to a URL, the response includes an <a href=\"https://en.wikipedia.org/wiki/List_of_HTTP_status_codes\"><b>HTTP status code</b></a> which can be accessed with the <b>status_code</b> method. Let's see what ours is."
   ]
  },
  {
   "cell_type": "markdown",
   "id": "ea0b029d-27ab-420a-af84-1e06a06bb19c",
   "metadata": {},
   "source": [
    "### Response Status Code\n",
    "##### Assign the status code for your <b>response</b> to the variable <b>response_code</b>."
   ]
  },
  {
   "cell_type": "code",
   "execution_count": 7,
   "id": "5f5a791d-0304-4503-aa18-f8038bc2d684",
   "metadata": {},
   "outputs": [
    {
     "name": "stdout",
     "output_type": "stream",
     "text": [
      "code type: <class 'int'>\n"
     ]
    },
    {
     "data": {
      "text/plain": [
       "200"
      ]
     },
     "execution_count": 7,
     "metadata": {},
     "output_type": "execute_result"
    }
   ],
   "source": [
    "response_code = response.status_code\n",
    "\n",
    "print(\"code type:\", type(response_code))\n",
    "response_code"
   ]
  },
  {
   "cell_type": "markdown",
   "id": "98881bfd-5025-4049-8a4a-2d573a7bb588",
   "metadata": {},
   "source": [
    "##### Translated to English, <b>200</b> means \"OK\". It's the standard response for a successful HTTP request. In other words, it worked! We successfully received data back from the AlphaVantage API.\n",
    "\n",
    "##### Now let's take a look at the <b>text</b>."
   ]
  },
  {
   "cell_type": "markdown",
   "id": "be613972-284e-4381-97ae-8ecc10807689",
   "metadata": {},
   "source": [
    "### Response Text\n",
    "##### Assign the text for your <b>response</b> to the variable <b>response_text</b>."
   ]
  },
  {
   "cell_type": "code",
   "execution_count": 8,
   "id": "fa08a5c8-b9a8-432f-82aa-6696b152dd6d",
   "metadata": {},
   "outputs": [
    {
     "name": "stdout",
     "output_type": "stream",
     "text": [
      "response_text type: <class 'str'>\n",
      "{\n",
      "    \"Meta Data\": {\n",
      "        \"1. Information\": \"Daily Prices (open, high, low, close) and Volumes\",\n",
      "        \"2. Symbol\": \"AMBUJACEM.BSE\",\n",
      "        \"3. Last Refreshed\": \"2025-01-21\",\n",
      "        \"4. Output \n"
     ]
    }
   ],
   "source": [
    "response_text = response.text\n",
    "\n",
    "print(\"response_text type:\", type(response_text))\n",
    "print(response_text[:200])"
   ]
  },
  {
   "cell_type": "markdown",
   "id": "d599448c-1061-4b45-8476-ae0a06877238",
   "metadata": {},
   "source": [
    "### Response JSON\n",
    "##### Use <b>json</b> method to access a dictionary version of the data. Assign it to the variable name <b>response_data</b>."
   ]
  },
  {
   "cell_type": "code",
   "execution_count": 10,
   "id": "5b355494-1abb-44de-bd58-0d03afe48449",
   "metadata": {},
   "outputs": [
    {
     "name": "stdout",
     "output_type": "stream",
     "text": [
      "response_data type: <class 'dict'>\n"
     ]
    }
   ],
   "source": [
    "response_data = response.json()\n",
    "\n",
    "print(\"response_data type:\", type(response_data))"
   ]
  },
  {
   "cell_type": "markdown",
   "id": "5ad19f98-7a4b-4678-abd2-98e20bffdc8b",
   "metadata": {},
   "source": [
    "#### Let's check to make sure that the data is structured in the same way we saw in our browser."
   ]
  },
  {
   "cell_type": "markdown",
   "id": "6641f080-4fdd-4a4e-910c-7c8e851dddfa",
   "metadata": {},
   "source": [
    "### Response Data Keys\n",
    "##### Print the keys of <b>response_data</b>. Are they what you expected?"
   ]
  },
  {
   "cell_type": "code",
   "execution_count": 11,
   "id": "551ce064-52b3-4cf0-a707-8745895221ce",
   "metadata": {},
   "outputs": [
    {
     "data": {
      "text/plain": [
       "dict_keys(['Meta Data', 'Time Series (Daily)'])"
      ]
     },
     "execution_count": 11,
     "metadata": {},
     "output_type": "execute_result"
    }
   ],
   "source": [
    "# Print `response_data` keys\n",
    "response_data.keys()"
   ]
  },
  {
   "cell_type": "markdown",
   "id": "74afffb3-b864-4448-8c1b-cf37650272ed",
   "metadata": {},
   "source": [
    "#### Now let's look at data that's assigned to the <b>\"Time Series (Daily)\"</b> key."
   ]
  },
  {
   "cell_type": "markdown",
   "id": "0ee9a732-62eb-4bfb-a681-9fdf5573b60a",
   "metadata": {},
   "source": [
    "### Stock Data\n",
    "##### ssign the value for the <b>\"Time Series (Daily)\"</b> key to the variable <b>stock_data</b>. Then examine the data for one of the days in <b>stock_data</b>."
   ]
  },
  {
   "cell_type": "code",
   "execution_count": 12,
   "id": "4eb33b1a-29c1-478a-a915-fd1e6489b6e5",
   "metadata": {},
   "outputs": [
    {
     "name": "stdout",
     "output_type": "stream",
     "text": [
      "stock_data type: <class 'dict'>\n"
     ]
    },
    {
     "data": {
      "text/plain": [
       "{'1. open': '536.9500',\n",
       " '2. high': '548.5000',\n",
       " '3. low': '530.5500',\n",
       " '4. close': '531.6000',\n",
       " '5. volume': '41152'}"
      ]
     },
     "execution_count": 12,
     "metadata": {},
     "output_type": "execute_result"
    }
   ],
   "source": [
    "# Extract `\"Time Series (Daily)\"` value from `response_data`\n",
    "stock_data = response_data[\"Time Series (Daily)\"]\n",
    "\n",
    "print(\"stock_data type:\", type(stock_data))\n",
    "\n",
    "# Extract data for one of the days in `stock_data`\n",
    "stock_data.keys()\n",
    "stock_data['2025-01-21']"
   ]
  },
  {
   "cell_type": "markdown",
   "id": "bfda3e91-7939-4b23-a51e-7917a73fe561",
   "metadata": {},
   "source": [
    "#### Now that we know how the data is organized when we extract it from the API, let's transform it into a DataFrame to make it more manageable."
   ]
  },
  {
   "cell_type": "markdown",
   "id": "2959d183-3cc5-4b73-b156-899bd403a48c",
   "metadata": {},
   "source": [
    "### Stock Data to DataFrame\n",
    "##### Read the data from <b>stock_data</b> into a DataFrame named <b>df_ambuja</b>. Be sure all your data types are correct!"
   ]
  },
  {
   "cell_type": "code",
   "execution_count": 13,
   "id": "ab042461-c212-4d2e-a388-efca28512abe",
   "metadata": {},
   "outputs": [
    {
     "name": "stdout",
     "output_type": "stream",
     "text": [
      "df_ambuja shape: (100, 5)\n",
      "\n",
      "<class 'pandas.core.frame.DataFrame'>\n",
      "Index: 100 entries, 2025-01-21 to 2024-08-28\n",
      "Data columns (total 5 columns):\n",
      " #   Column     Non-Null Count  Dtype  \n",
      "---  ------     --------------  -----  \n",
      " 0   1. open    100 non-null    float64\n",
      " 1   2. high    100 non-null    float64\n",
      " 2   3. low     100 non-null    float64\n",
      " 3   4. close   100 non-null    float64\n",
      " 4   5. volume  100 non-null    float64\n",
      "dtypes: float64(5)\n",
      "memory usage: 4.7+ KB\n",
      "None\n"
     ]
    },
    {
     "data": {
      "text/html": [
       "<div>\n",
       "<style scoped>\n",
       "    .dataframe tbody tr th:only-of-type {\n",
       "        vertical-align: middle;\n",
       "    }\n",
       "\n",
       "    .dataframe tbody tr th {\n",
       "        vertical-align: top;\n",
       "    }\n",
       "\n",
       "    .dataframe thead th {\n",
       "        text-align: right;\n",
       "    }\n",
       "</style>\n",
       "<table border=\"1\" class=\"dataframe\">\n",
       "  <thead>\n",
       "    <tr style=\"text-align: right;\">\n",
       "      <th></th>\n",
       "      <th>1. open</th>\n",
       "      <th>2. high</th>\n",
       "      <th>3. low</th>\n",
       "      <th>4. close</th>\n",
       "      <th>5. volume</th>\n",
       "    </tr>\n",
       "  </thead>\n",
       "  <tbody>\n",
       "    <tr>\n",
       "      <th>2025-01-21</th>\n",
       "      <td>536.95</td>\n",
       "      <td>548.5</td>\n",
       "      <td>530.55</td>\n",
       "      <td>531.60</td>\n",
       "      <td>41152.0</td>\n",
       "    </tr>\n",
       "    <tr>\n",
       "      <th>2025-01-20</th>\n",
       "      <td>537.40</td>\n",
       "      <td>539.0</td>\n",
       "      <td>530.10</td>\n",
       "      <td>534.45</td>\n",
       "      <td>18346.0</td>\n",
       "    </tr>\n",
       "    <tr>\n",
       "      <th>2025-01-17</th>\n",
       "      <td>544.70</td>\n",
       "      <td>544.7</td>\n",
       "      <td>530.25</td>\n",
       "      <td>536.10</td>\n",
       "      <td>23100.0</td>\n",
       "    </tr>\n",
       "    <tr>\n",
       "      <th>2025-01-16</th>\n",
       "      <td>530.00</td>\n",
       "      <td>542.9</td>\n",
       "      <td>529.00</td>\n",
       "      <td>539.80</td>\n",
       "      <td>37244.0</td>\n",
       "    </tr>\n",
       "    <tr>\n",
       "      <th>2025-01-15</th>\n",
       "      <td>517.00</td>\n",
       "      <td>525.0</td>\n",
       "      <td>513.00</td>\n",
       "      <td>519.25</td>\n",
       "      <td>38040.0</td>\n",
       "    </tr>\n",
       "  </tbody>\n",
       "</table>\n",
       "</div>"
      ],
      "text/plain": [
       "            1. open  2. high  3. low  4. close  5. volume\n",
       "2025-01-21   536.95    548.5  530.55    531.60    41152.0\n",
       "2025-01-20   537.40    539.0  530.10    534.45    18346.0\n",
       "2025-01-17   544.70    544.7  530.25    536.10    23100.0\n",
       "2025-01-16   530.00    542.9  529.00    539.80    37244.0\n",
       "2025-01-15   517.00    525.0  513.00    519.25    38040.0"
      ]
     },
     "execution_count": 13,
     "metadata": {},
     "output_type": "execute_result"
    }
   ],
   "source": [
    "df_ambuja = pd.DataFrame.from_dict(stock_data, orient=\"index\", dtype=float)\n",
    "\n",
    "print(\"df_ambuja shape:\", df_ambuja.shape)\n",
    "print()\n",
    "print(df_ambuja.info())\n",
    "df_ambuja.head()"
   ]
  },
  {
   "cell_type": "markdown",
   "id": "26f33348-a99f-485d-94c9-1460c337517f",
   "metadata": {},
   "source": [
    "#### All in all, this looks pretty good, but there are a couple of problems: the data type of the dates, and the format of the headers. "
   ]
  },
  {
   "cell_type": "markdown",
   "id": "0a871f0f-be60-41c3-a942-1633b821c1a5",
   "metadata": {},
   "source": [
    "##### Transform the index of <b>df_ambuja</b> into a <b>DatetimeIndex</b> with the name <b>\"date\"</b> and Remove the numbering from the column names for <b>df_ambuja</b>."
   ]
  },
  {
   "cell_type": "code",
   "execution_count": 14,
   "id": "cab9c0a9-955a-4b4c-a988-ad8708827585",
   "metadata": {},
   "outputs": [
    {
     "name": "stdout",
     "output_type": "stream",
     "text": [
      "<class 'pandas.core.frame.DataFrame'>\n",
      "DatetimeIndex: 100 entries, 2025-01-21 to 2024-08-28\n",
      "Data columns (total 5 columns):\n",
      " #   Column  Non-Null Count  Dtype  \n",
      "---  ------  --------------  -----  \n",
      " 0   open    100 non-null    float64\n",
      " 1   high    100 non-null    float64\n",
      " 2   low     100 non-null    float64\n",
      " 3   close   100 non-null    float64\n",
      " 4   volume  100 non-null    float64\n",
      "dtypes: float64(5)\n",
      "memory usage: 4.7 KB\n",
      "None\n"
     ]
    },
    {
     "data": {
      "text/html": [
       "<div>\n",
       "<style scoped>\n",
       "    .dataframe tbody tr th:only-of-type {\n",
       "        vertical-align: middle;\n",
       "    }\n",
       "\n",
       "    .dataframe tbody tr th {\n",
       "        vertical-align: top;\n",
       "    }\n",
       "\n",
       "    .dataframe thead th {\n",
       "        text-align: right;\n",
       "    }\n",
       "</style>\n",
       "<table border=\"1\" class=\"dataframe\">\n",
       "  <thead>\n",
       "    <tr style=\"text-align: right;\">\n",
       "      <th></th>\n",
       "      <th>open</th>\n",
       "      <th>high</th>\n",
       "      <th>low</th>\n",
       "      <th>close</th>\n",
       "      <th>volume</th>\n",
       "    </tr>\n",
       "    <tr>\n",
       "      <th>date</th>\n",
       "      <th></th>\n",
       "      <th></th>\n",
       "      <th></th>\n",
       "      <th></th>\n",
       "      <th></th>\n",
       "    </tr>\n",
       "  </thead>\n",
       "  <tbody>\n",
       "    <tr>\n",
       "      <th>2025-01-21</th>\n",
       "      <td>536.95</td>\n",
       "      <td>548.5</td>\n",
       "      <td>530.55</td>\n",
       "      <td>531.60</td>\n",
       "      <td>41152.0</td>\n",
       "    </tr>\n",
       "    <tr>\n",
       "      <th>2025-01-20</th>\n",
       "      <td>537.40</td>\n",
       "      <td>539.0</td>\n",
       "      <td>530.10</td>\n",
       "      <td>534.45</td>\n",
       "      <td>18346.0</td>\n",
       "    </tr>\n",
       "    <tr>\n",
       "      <th>2025-01-17</th>\n",
       "      <td>544.70</td>\n",
       "      <td>544.7</td>\n",
       "      <td>530.25</td>\n",
       "      <td>536.10</td>\n",
       "      <td>23100.0</td>\n",
       "    </tr>\n",
       "    <tr>\n",
       "      <th>2025-01-16</th>\n",
       "      <td>530.00</td>\n",
       "      <td>542.9</td>\n",
       "      <td>529.00</td>\n",
       "      <td>539.80</td>\n",
       "      <td>37244.0</td>\n",
       "    </tr>\n",
       "    <tr>\n",
       "      <th>2025-01-15</th>\n",
       "      <td>517.00</td>\n",
       "      <td>525.0</td>\n",
       "      <td>513.00</td>\n",
       "      <td>519.25</td>\n",
       "      <td>38040.0</td>\n",
       "    </tr>\n",
       "  </tbody>\n",
       "</table>\n",
       "</div>"
      ],
      "text/plain": [
       "              open   high     low   close   volume\n",
       "date                                              \n",
       "2025-01-21  536.95  548.5  530.55  531.60  41152.0\n",
       "2025-01-20  537.40  539.0  530.10  534.45  18346.0\n",
       "2025-01-17  544.70  544.7  530.25  536.10  23100.0\n",
       "2025-01-16  530.00  542.9  529.00  539.80  37244.0\n",
       "2025-01-15  517.00  525.0  513.00  519.25  38040.0"
      ]
     },
     "execution_count": 14,
     "metadata": {},
     "output_type": "execute_result"
    }
   ],
   "source": [
    "# Convert `df_ambuja` index to `DatetimeIndex`\n",
    "df_ambuja.index= pd.to_datetime(df_ambuja.index)\n",
    "\n",
    "# Name index \"date\"\n",
    "df_ambuja.index.name= \"date\"\n",
    "\n",
    "# Remove numbering from `df_ambuja` column names\n",
    "df_ambuja.columns = [c.split(\". \")[1] for c in df_ambuja.columns]\n",
    "\n",
    "print(df_ambuja.info())\n",
    "df_ambuja.head()\n"
   ]
  },
  {
   "cell_type": "markdown",
   "id": "5304c6f8-64a2-49f4-8502-f5f7a57b3897",
   "metadata": {},
   "source": [
    "#### Note that: The rows in <b>df_ambuja</b> are sorted <b>descending</b>, with the most recent date at the top. This will work to our advantage when we store and retrieve the data from our application database, but we'll need to sort it <b>ascending</b> before we can use it to train a model."
   ]
  },
  {
   "cell_type": "markdown",
   "id": "5f4aac06-ecb5-40b2-bcf5-7f7f78f475d8",
   "metadata": {},
   "source": [
    "## Defensive Programming\n",
    "#### Defensive programming is the practice of writing code which will continue to function, even if something goes wrong. We'll never be able to foresee all the problems people might run into with our code, but we can take steps to make sure things don't fall apart whenever one of those problems happens.\n",
    "\n",
    "#### So far, we've made API requests where everything works. But coding errors and problems with servers are common, and they can cause big issues in a data science project. Let's see how our <b>response</b> changes when we introduce common bugs in our code."
   ]
  },
  {
   "cell_type": "markdown",
   "id": "e582717c-bbb6-4a92-a46f-2dfc75d7fe8b",
   "metadata": {},
   "source": [
    "##### Let's formalize our extraction and transformation process for the AlphaVantage API into a reproducible function."
   ]
  },
  {
   "cell_type": "markdown",
   "id": "94e04edd-3d63-4a21-9e5b-2079d4bf6028",
   "metadata": {},
   "source": [
    "##### Build a <b>get_daily</b> function that gets data from the AlphaVantage API and returns a clean DataFrame."
   ]
  },
  {
   "cell_type": "code",
   "execution_count": 15,
   "id": "59d59694-5667-4522-9a85-811381039a16",
   "metadata": {},
   "outputs": [],
   "source": [
    "def get_daily(ticker, output_size=\"full\"):\n",
    "\n",
    "    # Create URL\n",
    "    url = (\n",
    "        \"https://learn-api.wqu.edu/1/data-services/alpha-vantage/query?\"\n",
    "        \"function=TIME_SERIES_DAILY&\"\n",
    "        f\"symbol={ticker}&\"\n",
    "        f\"outputsize={output_size}&\"\n",
    "        \"datatype=json&\"\n",
    "        f\"apikey={settings.alpha_api_key}\"\n",
    "    )\n",
    "\n",
    "    # Send request to API\n",
    "    response = requests.get(url)\n",
    "\n",
    "    # Extract JSON data from response\n",
    "    response_data = response.json()\n",
    "\n",
    "    # Read data into DataFrame \n",
    "    stock_data = response_data[\"Time Series (Daily)\"]\n",
    "    df = pd.DataFrame.from_dict(stock_data, orient=\"index\", dtype=float)\n",
    "\n",
    "    # Convert index to `DatetimeIndex` named \"date\"\n",
    "    df.index = pd.to_datetime(df.index)\n",
    "    df.index.name= \"date\"\n",
    "\n",
    "    # Remove numbering from columns\n",
    "    df.columns = [c.split(\". \")[1] for c in df.columns]\n",
    "\n",
    "    # Return DataFrame\n",
    "    return df"
   ]
  },
  {
   "cell_type": "code",
   "execution_count": 16,
   "id": "ae2ad4b5-e3b9-4884-99d3-02aa89292255",
   "metadata": {},
   "outputs": [
    {
     "data": {
      "text/html": [
       "<div>\n",
       "<style scoped>\n",
       "    .dataframe tbody tr th:only-of-type {\n",
       "        vertical-align: middle;\n",
       "    }\n",
       "\n",
       "    .dataframe tbody tr th {\n",
       "        vertical-align: top;\n",
       "    }\n",
       "\n",
       "    .dataframe thead th {\n",
       "        text-align: right;\n",
       "    }\n",
       "</style>\n",
       "<table border=\"1\" class=\"dataframe\">\n",
       "  <thead>\n",
       "    <tr style=\"text-align: right;\">\n",
       "      <th></th>\n",
       "      <th>open</th>\n",
       "      <th>high</th>\n",
       "      <th>low</th>\n",
       "      <th>close</th>\n",
       "      <th>volume</th>\n",
       "    </tr>\n",
       "    <tr>\n",
       "      <th>date</th>\n",
       "      <th></th>\n",
       "      <th></th>\n",
       "      <th></th>\n",
       "      <th></th>\n",
       "      <th></th>\n",
       "    </tr>\n",
       "  </thead>\n",
       "  <tbody>\n",
       "    <tr>\n",
       "      <th>2025-01-21</th>\n",
       "      <td>536.95</td>\n",
       "      <td>548.5</td>\n",
       "      <td>530.55</td>\n",
       "      <td>531.60</td>\n",
       "      <td>41152.0</td>\n",
       "    </tr>\n",
       "    <tr>\n",
       "      <th>2025-01-20</th>\n",
       "      <td>537.40</td>\n",
       "      <td>539.0</td>\n",
       "      <td>530.10</td>\n",
       "      <td>534.45</td>\n",
       "      <td>18346.0</td>\n",
       "    </tr>\n",
       "    <tr>\n",
       "      <th>2025-01-17</th>\n",
       "      <td>544.70</td>\n",
       "      <td>544.7</td>\n",
       "      <td>530.25</td>\n",
       "      <td>536.10</td>\n",
       "      <td>23100.0</td>\n",
       "    </tr>\n",
       "    <tr>\n",
       "      <th>2025-01-16</th>\n",
       "      <td>530.00</td>\n",
       "      <td>542.9</td>\n",
       "      <td>529.00</td>\n",
       "      <td>539.80</td>\n",
       "      <td>37244.0</td>\n",
       "    </tr>\n",
       "    <tr>\n",
       "      <th>2025-01-15</th>\n",
       "      <td>517.00</td>\n",
       "      <td>525.0</td>\n",
       "      <td>513.00</td>\n",
       "      <td>519.25</td>\n",
       "      <td>38040.0</td>\n",
       "    </tr>\n",
       "  </tbody>\n",
       "</table>\n",
       "</div>"
      ],
      "text/plain": [
       "              open   high     low   close   volume\n",
       "date                                              \n",
       "2025-01-21  536.95  548.5  530.55  531.60  41152.0\n",
       "2025-01-20  537.40  539.0  530.10  534.45  18346.0\n",
       "2025-01-17  544.70  544.7  530.25  536.10  23100.0\n",
       "2025-01-16  530.00  542.9  529.00  539.80  37244.0\n",
       "2025-01-15  517.00  525.0  513.00  519.25  38040.0"
      ]
     },
     "execution_count": 16,
     "metadata": {},
     "output_type": "execute_result"
    }
   ],
   "source": [
    "# Test your function\n",
    "df_ambuja = get_daily(ticker=\"AMBUJACEM.BSE\", output_size=\"compact\")\n",
    "df_ambuja.head()"
   ]
  },
  {
   "cell_type": "code",
   "execution_count": 17,
   "id": "d50a306d-7690-4d02-96bf-307f40834572",
   "metadata": {},
   "outputs": [
    {
     "data": {
      "text/html": [
       "<div>\n",
       "<style scoped>\n",
       "    .dataframe tbody tr th:only-of-type {\n",
       "        vertical-align: middle;\n",
       "    }\n",
       "\n",
       "    .dataframe tbody tr th {\n",
       "        vertical-align: top;\n",
       "    }\n",
       "\n",
       "    .dataframe thead th {\n",
       "        text-align: right;\n",
       "    }\n",
       "</style>\n",
       "<table border=\"1\" class=\"dataframe\">\n",
       "  <thead>\n",
       "    <tr style=\"text-align: right;\">\n",
       "      <th></th>\n",
       "      <th>open</th>\n",
       "      <th>high</th>\n",
       "      <th>low</th>\n",
       "      <th>close</th>\n",
       "      <th>volume</th>\n",
       "    </tr>\n",
       "    <tr>\n",
       "      <th>date</th>\n",
       "      <th></th>\n",
       "      <th></th>\n",
       "      <th></th>\n",
       "      <th></th>\n",
       "      <th></th>\n",
       "    </tr>\n",
       "  </thead>\n",
       "  <tbody>\n",
       "    <tr>\n",
       "      <th>2025-01-21</th>\n",
       "      <td>224.990</td>\n",
       "      <td>227.4500</td>\n",
       "      <td>222.8302</td>\n",
       "      <td>224.26</td>\n",
       "      <td>3982203.0</td>\n",
       "    </tr>\n",
       "    <tr>\n",
       "      <th>2025-01-17</th>\n",
       "      <td>225.955</td>\n",
       "      <td>225.9550</td>\n",
       "      <td>223.6400</td>\n",
       "      <td>224.79</td>\n",
       "      <td>5506837.0</td>\n",
       "    </tr>\n",
       "    <tr>\n",
       "      <th>2025-01-16</th>\n",
       "      <td>219.690</td>\n",
       "      <td>222.6800</td>\n",
       "      <td>217.3800</td>\n",
       "      <td>222.66</td>\n",
       "      <td>3329060.0</td>\n",
       "    </tr>\n",
       "    <tr>\n",
       "      <th>2025-01-15</th>\n",
       "      <td>220.870</td>\n",
       "      <td>221.6761</td>\n",
       "      <td>218.0100</td>\n",
       "      <td>220.03</td>\n",
       "      <td>2951825.0</td>\n",
       "    </tr>\n",
       "    <tr>\n",
       "      <th>2025-01-14</th>\n",
       "      <td>218.000</td>\n",
       "      <td>218.1250</td>\n",
       "      <td>214.6100</td>\n",
       "      <td>217.75</td>\n",
       "      <td>3485829.0</td>\n",
       "    </tr>\n",
       "  </tbody>\n",
       "</table>\n",
       "</div>"
      ],
      "text/plain": [
       "               open      high       low   close     volume\n",
       "date                                                      \n",
       "2025-01-21  224.990  227.4500  222.8302  224.26  3982203.0\n",
       "2025-01-17  225.955  225.9550  223.6400  224.79  5506837.0\n",
       "2025-01-16  219.690  222.6800  217.3800  222.66  3329060.0\n",
       "2025-01-15  220.870  221.6761  218.0100  220.03  2951825.0\n",
       "2025-01-14  218.000  218.1250  214.6100  217.75  3485829.0"
      ]
     },
     "execution_count": 17,
     "metadata": {},
     "output_type": "execute_result"
    }
   ],
   "source": [
    "df_ibm = get_daily(ticker=\"IBM\", output_size=\"compact\")\n",
    "df_ibm.head()"
   ]
  },
  {
   "cell_type": "code",
   "execution_count": 18,
   "id": "db756982-7ab1-4688-9ef7-9cfcacef5c11",
   "metadata": {},
   "outputs": [
    {
     "name": "stdout",
     "output_type": "stream",
     "text": [
      "<class 'pandas.core.frame.DataFrame'>\n",
      "DatetimeIndex: 6344 entries, 2025-01-21 to 1999-11-01\n",
      "Data columns (total 5 columns):\n",
      " #   Column  Non-Null Count  Dtype  \n",
      "---  ------  --------------  -----  \n",
      " 0   open    6344 non-null   float64\n",
      " 1   high    6344 non-null   float64\n",
      " 2   low     6344 non-null   float64\n",
      " 3   close   6344 non-null   float64\n",
      " 4   volume  6344 non-null   float64\n",
      "dtypes: float64(5)\n",
      "memory usage: 297.4 KB\n",
      "None\n"
     ]
    },
    {
     "data": {
      "text/html": [
       "<div>\n",
       "<style scoped>\n",
       "    .dataframe tbody tr th:only-of-type {\n",
       "        vertical-align: middle;\n",
       "    }\n",
       "\n",
       "    .dataframe tbody tr th {\n",
       "        vertical-align: top;\n",
       "    }\n",
       "\n",
       "    .dataframe thead th {\n",
       "        text-align: right;\n",
       "    }\n",
       "</style>\n",
       "<table border=\"1\" class=\"dataframe\">\n",
       "  <thead>\n",
       "    <tr style=\"text-align: right;\">\n",
       "      <th></th>\n",
       "      <th>open</th>\n",
       "      <th>high</th>\n",
       "      <th>low</th>\n",
       "      <th>close</th>\n",
       "      <th>volume</th>\n",
       "    </tr>\n",
       "    <tr>\n",
       "      <th>date</th>\n",
       "      <th></th>\n",
       "      <th></th>\n",
       "      <th></th>\n",
       "      <th></th>\n",
       "      <th></th>\n",
       "    </tr>\n",
       "  </thead>\n",
       "  <tbody>\n",
       "    <tr>\n",
       "      <th>2025-01-21</th>\n",
       "      <td>224.990</td>\n",
       "      <td>227.4500</td>\n",
       "      <td>222.8302</td>\n",
       "      <td>224.26</td>\n",
       "      <td>3982203.0</td>\n",
       "    </tr>\n",
       "    <tr>\n",
       "      <th>2025-01-17</th>\n",
       "      <td>225.955</td>\n",
       "      <td>225.9550</td>\n",
       "      <td>223.6400</td>\n",
       "      <td>224.79</td>\n",
       "      <td>5506837.0</td>\n",
       "    </tr>\n",
       "    <tr>\n",
       "      <th>2025-01-16</th>\n",
       "      <td>219.690</td>\n",
       "      <td>222.6800</td>\n",
       "      <td>217.3800</td>\n",
       "      <td>222.66</td>\n",
       "      <td>3329060.0</td>\n",
       "    </tr>\n",
       "    <tr>\n",
       "      <th>2025-01-15</th>\n",
       "      <td>220.870</td>\n",
       "      <td>221.6761</td>\n",
       "      <td>218.0100</td>\n",
       "      <td>220.03</td>\n",
       "      <td>2951825.0</td>\n",
       "    </tr>\n",
       "    <tr>\n",
       "      <th>2025-01-14</th>\n",
       "      <td>218.000</td>\n",
       "      <td>218.1250</td>\n",
       "      <td>214.6100</td>\n",
       "      <td>217.75</td>\n",
       "      <td>3485829.0</td>\n",
       "    </tr>\n",
       "  </tbody>\n",
       "</table>\n",
       "</div>"
      ],
      "text/plain": [
       "               open      high       low   close     volume\n",
       "date                                                      \n",
       "2025-01-21  224.990  227.4500  222.8302  224.26  3982203.0\n",
       "2025-01-17  225.955  225.9550  223.6400  224.79  5506837.0\n",
       "2025-01-16  219.690  222.6800  217.3800  222.66  3329060.0\n",
       "2025-01-15  220.870  221.6761  218.0100  220.03  2951825.0\n",
       "2025-01-14  218.000  218.1250  214.6100  217.75  3485829.0"
      ]
     },
     "execution_count": 18,
     "metadata": {},
     "output_type": "execute_result"
    }
   ],
   "source": [
    "df_ibm = get_daily(ticker=\"IBM\", output_size=\"full\")\n",
    "print(df_ibm.info())\n",
    "df_ibm.head()"
   ]
  },
  {
   "cell_type": "markdown",
   "id": "a29f2768-45ef-4053-b982-20b89ae7bd7f",
   "metadata": {},
   "source": [
    "#### How does this function deal with the two bugs we've explored in this section? Our first error, a bad URL, is something we don't need to worry about. No matter what the user inputs into this function, the URL will always be correct. But see what happens when the user inputs a bad ticker symbol. What's the error message? Would it help the user locate their mistake?"
   ]
  },
  {
   "cell_type": "markdown",
   "id": "140a5e5b-97db-4a20-9679-3f039f950b0e",
   "metadata": {},
   "source": [
    "##### Add an <b>if</b> clause to your <b>get_daily</b> function so that it throws an <b>Exception</b> when a user supplies a bad ticker symbol. Be sure the error message is informative."
   ]
  },
  {
   "cell_type": "code",
   "execution_count": 19,
   "id": "2a31f4e2-d1fc-4cc7-bb3f-7f1247315f18",
   "metadata": {},
   "outputs": [],
   "source": [
    "def get_daily(ticker, output_size=\"full\"):\n",
    "\n",
    "    # Create URL\n",
    "    url = (\n",
    "        \"https://learn-api.wqu.edu/1/data-services/alpha-vantage/query?\"\n",
    "        \"function=TIME_SERIES_DAILY&\"\n",
    "        f\"symbol={ticker}&\"\n",
    "        f\"outputsize={output_size}&\"\n",
    "        \"datatype=json&\"\n",
    "        f\"apikey={settings.alpha_api_key}\"\n",
    "    )\n",
    "\n",
    "    # Send request to API\n",
    "    response = requests.get(url)\n",
    "\n",
    "    # Extract JSON data from response\n",
    "    response_data = response.json()\n",
    "    if \"Time Series (Daily)\" not in response_data.keys():\n",
    "        raise Exception(f\"Invalid API call. Check that ticker symbol '{ticker}' is correct.\")\n",
    "\n",
    "    # Read data into DataFrame \n",
    "    stock_data = response_data[\"Time Series (Daily)\"]\n",
    "    df = pd.DataFrame.from_dict(stock_data, orient=\"index\", dtype=float)\n",
    "\n",
    "    # Convert index to `DatetimeIndex` named \"date\"\n",
    "    df.index = pd.to_datetime(df.index)\n",
    "    df.index.name= \"date\"\n",
    "\n",
    "    # Remove numbering from columns\n",
    "    df.columns = [c.split(\". \")[1] for c in df.columns]\n",
    "\n",
    "    # Return DataFrame\n",
    "    return df"
   ]
  },
  {
   "cell_type": "code",
   "execution_count": 20,
   "id": "d006478b-03db-4855-bbd9-b2532de94d45",
   "metadata": {},
   "outputs": [
    {
     "data": {
      "text/plain": [
       "(4939, 5)"
      ]
     },
     "execution_count": 20,
     "metadata": {},
     "output_type": "execute_result"
    }
   ],
   "source": [
    "# Test your Exception\n",
    "df_test = get_daily(ticker=\"AMBUJACEM.BSE\")\n",
    "df_test.shape"
   ]
  },
  {
   "cell_type": "code",
   "execution_count": 23,
   "id": "2bc0d99a-7506-4e56-9524-261087f107c7",
   "metadata": {},
   "outputs": [
    {
     "data": {
      "text/plain": [
       "(6344, 5)"
      ]
     },
     "execution_count": 23,
     "metadata": {},
     "output_type": "execute_result"
    }
   ],
   "source": [
    "# Test your Exception\n",
    "df_test = get_daily(ticker=\"IBM\")\n",
    "df_test.shape"
   ]
  },
  {
   "cell_type": "code",
   "execution_count": 21,
   "id": "436f4dce-c14f-4256-809a-39df1e07e1c8",
   "metadata": {},
   "outputs": [
    {
     "ename": "Exception",
     "evalue": "Invalid API call. Check that ticker symbol 'ABUJACEM.BSE' is correct.",
     "output_type": "error",
     "traceback": [
      "\u001b[1;31m---------------------------------------------------------------------------\u001b[0m",
      "\u001b[1;31mException\u001b[0m                                 Traceback (most recent call last)",
      "Cell \u001b[1;32mIn[21], line 2\u001b[0m\n\u001b[0;32m      1\u001b[0m \u001b[38;5;66;03m# Test your Exception\u001b[39;00m\n\u001b[1;32m----> 2\u001b[0m df_test \u001b[38;5;241m=\u001b[39m \u001b[43mget_daily\u001b[49m\u001b[43m(\u001b[49m\u001b[43mticker\u001b[49m\u001b[38;5;241;43m=\u001b[39;49m\u001b[38;5;124;43m\"\u001b[39;49m\u001b[38;5;124;43mABUJACEM.BSE\u001b[39;49m\u001b[38;5;124;43m\"\u001b[39;49m\u001b[43m)\u001b[49m\n\u001b[0;32m      3\u001b[0m df_test\u001b[38;5;241m.\u001b[39mshape\n",
      "Cell \u001b[1;32mIn[19], line 19\u001b[0m, in \u001b[0;36mget_daily\u001b[1;34m(ticker, output_size)\u001b[0m\n\u001b[0;32m     17\u001b[0m response_data \u001b[38;5;241m=\u001b[39m response\u001b[38;5;241m.\u001b[39mjson()\n\u001b[0;32m     18\u001b[0m \u001b[38;5;28;01mif\u001b[39;00m \u001b[38;5;124m\"\u001b[39m\u001b[38;5;124mTime Series (Daily)\u001b[39m\u001b[38;5;124m\"\u001b[39m \u001b[38;5;129;01mnot\u001b[39;00m \u001b[38;5;129;01min\u001b[39;00m response_data\u001b[38;5;241m.\u001b[39mkeys():\n\u001b[1;32m---> 19\u001b[0m     \u001b[38;5;28;01mraise\u001b[39;00m \u001b[38;5;167;01mException\u001b[39;00m(\u001b[38;5;124mf\u001b[39m\u001b[38;5;124m\"\u001b[39m\u001b[38;5;124mInvalid API call. Check that ticker symbol \u001b[39m\u001b[38;5;124m'\u001b[39m\u001b[38;5;132;01m{\u001b[39;00mticker\u001b[38;5;132;01m}\u001b[39;00m\u001b[38;5;124m'\u001b[39m\u001b[38;5;124m is correct.\u001b[39m\u001b[38;5;124m\"\u001b[39m)\n\u001b[0;32m     21\u001b[0m \u001b[38;5;66;03m# Read data into DataFrame \u001b[39;00m\n\u001b[0;32m     22\u001b[0m stock_data \u001b[38;5;241m=\u001b[39m response_data[\u001b[38;5;124m\"\u001b[39m\u001b[38;5;124mTime Series (Daily)\u001b[39m\u001b[38;5;124m\"\u001b[39m]\n",
      "\u001b[1;31mException\u001b[0m: Invalid API call. Check that ticker symbol 'ABUJACEM.BSE' is correct."
     ]
    }
   ],
   "source": [
    "# Test your Exception\n",
    "df_test = get_daily(ticker=\"ABUJACEM.BSE\")\n",
    "df_test.shape"
   ]
  },
  {
   "cell_type": "markdown",
   "id": "ce9f6b53-bc8a-4ffb-b45f-dcbba964476f",
   "metadata": {},
   "source": [
    "#### Alright! We now have all the tools we need to get the data for our project. In the next lesson, we'll make our AlphaVantage code more reusable by creating a <b>data</b> module with class definitions. We'll also create the code we need to store and read this data from our application database."
   ]
  },
  {
   "cell_type": "markdown",
   "id": "19b54cb4-2897-4da3-96d8-6651ca531b47",
   "metadata": {},
   "source": [
    "## End"
   ]
  },
  {
   "cell_type": "code",
   "execution_count": null,
   "id": "a82935e4-53f7-4658-9fd5-33de2e037ca3",
   "metadata": {},
   "outputs": [],
   "source": []
  }
 ],
 "metadata": {
  "kernelspec": {
   "display_name": "Python 3 (ipykernel)",
   "language": "python",
   "name": "python3"
  },
  "language_info": {
   "codemirror_mode": {
    "name": "ipython",
    "version": 3
   },
   "file_extension": ".py",
   "mimetype": "text/x-python",
   "name": "python",
   "nbconvert_exporter": "python",
   "pygments_lexer": "ipython3",
   "version": "3.12.4"
  }
 },
 "nbformat": 4,
 "nbformat_minor": 5
}
